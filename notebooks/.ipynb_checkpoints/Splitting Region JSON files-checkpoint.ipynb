{
 "cells": [
  {
   "cell_type": "markdown",
   "metadata": {},
   "source": [
    "# Splitting the Region Data"
   ]
  },
  {
   "cell_type": "markdown",
   "metadata": {},
   "source": [
    "## Libraries"
   ]
  },
  {
   "cell_type": "code",
   "execution_count": 1,
   "metadata": {
    "collapsed": true
   },
   "outputs": [],
   "source": [
    "import geopandas as gpd\n",
    "import pandas as pd\n",
    "import numpy as np\n",
    "import matplotlib.pyplot as plt\n",
    "import convertbng"
   ]
  },
  {
   "cell_type": "markdown",
   "metadata": {},
   "source": [
    "## Options"
   ]
  },
  {
   "cell_type": "code",
   "execution_count": 2,
   "metadata": {
    "collapsed": false
   },
   "outputs": [
    {
     "data": {
      "text/html": [
       "<style>.container { width:100% !important; }</style>"
      ],
      "text/plain": [
       "<IPython.core.display.HTML object>"
      ]
     },
     "metadata": {},
     "output_type": "display_data"
    }
   ],
   "source": [
    "from IPython.core.display import display, HTML\n",
    "display(HTML(\"<style>.container { width:100% !important; }</style>\")) \n",
    "\n",
    "pd.options.display.max_rows = 30\n",
    "pd.options.display.max_columns = 40\n",
    "\n",
    "%matplotlib inline"
   ]
  },
  {
   "cell_type": "markdown",
   "metadata": {},
   "source": [
    "## Variables"
   ]
  },
  {
   "cell_type": "code",
   "execution_count": 3,
   "metadata": {
    "collapsed": true
   },
   "outputs": [],
   "source": [
    "path = '/Users/tomewing/dft-app/js/data/'"
   ]
  },
  {
   "cell_type": "markdown",
   "metadata": {},
   "source": [
    "## Importing the data"
   ]
  },
  {
   "cell_type": "code",
   "execution_count": 4,
   "metadata": {
    "collapsed": true
   },
   "outputs": [],
   "source": [
    "df_rg_raw = gpd.read_file(path + 'uk-regions.json')"
   ]
  },
  {
   "cell_type": "code",
   "execution_count": 5,
   "metadata": {
    "collapsed": false
   },
   "outputs": [
    {
     "data": {
      "text/html": [
       "<div>\n",
       "<table border=\"1\" class=\"dataframe\">\n",
       "  <thead>\n",
       "    <tr style=\"text-align: right;\">\n",
       "      <th></th>\n",
       "      <th>AREA</th>\n",
       "      <th>AREA_CODE</th>\n",
       "      <th>CODE</th>\n",
       "      <th>DESCRIPT0</th>\n",
       "      <th>DESCRIPT1</th>\n",
       "      <th>DESCRIPTIO</th>\n",
       "      <th>FILE_NAME</th>\n",
       "      <th>HECTARES</th>\n",
       "      <th>NAME</th>\n",
       "      <th>NUMBER</th>\n",
       "      <th>NUMBER0</th>\n",
       "      <th>POLYGON_ID</th>\n",
       "      <th>TYPE_COD0</th>\n",
       "      <th>TYPE_CODE</th>\n",
       "      <th>UNIT_ID</th>\n",
       "      <th>geometry</th>\n",
       "    </tr>\n",
       "  </thead>\n",
       "  <tbody>\n",
       "    <tr>\n",
       "      <th>0</th>\n",
       "      <td>115.627</td>\n",
       "      <td>CTY</td>\n",
       "      <td>20</td>\n",
       "      <td>CIVIL ADMINISTRATION AREA</td>\n",
       "      <td>None</td>\n",
       "      <td>GOS Region</td>\n",
       "      <td>North_East</td>\n",
       "      <td>223273.815</td>\n",
       "      <td>North East</td>\n",
       "      <td>17</td>\n",
       "      <td>685</td>\n",
       "      <td>42353</td>\n",
       "      <td>None</td>\n",
       "      <td>AA</td>\n",
       "      <td>2544</td>\n",
       "      <td>POLYGON ((478308.8 518913, 477996.9000000002 5...</td>\n",
       "    </tr>\n",
       "    <tr>\n",
       "      <th>1</th>\n",
       "      <td>40345.973</td>\n",
       "      <td>CTY</td>\n",
       "      <td>16</td>\n",
       "      <td>CIVIL ADMINISTRATION AREA</td>\n",
       "      <td>None</td>\n",
       "      <td>GOS Region</td>\n",
       "      <td>North_West</td>\n",
       "      <td>718202.829</td>\n",
       "      <td>North West</td>\n",
       "      <td>27</td>\n",
       "      <td>1067</td>\n",
       "      <td>121915</td>\n",
       "      <td>None</td>\n",
       "      <td>AA</td>\n",
       "      <td>13244</td>\n",
       "      <td>POLYGON ((356931.9 586589.1, 356952.7 586535.9...</td>\n",
       "    </tr>\n",
       "    <tr>\n",
       "      <th>2</th>\n",
       "      <td>2119.015</td>\n",
       "      <td>GLA</td>\n",
       "      <td>999999</td>\n",
       "      <td>CIVIL ADMINISTRATION AREA</td>\n",
       "      <td>None</td>\n",
       "      <td>GOS Region</td>\n",
       "      <td>GREATER_LONDON_AUTHORITY</td>\n",
       "      <td>159471.727</td>\n",
       "      <td>Greater London Authority</td>\n",
       "      <td>40</td>\n",
       "      <td>1460</td>\n",
       "      <td>117537</td>\n",
       "      <td>None</td>\n",
       "      <td>AA</td>\n",
       "      <td>41441</td>\n",
       "      <td>POLYGON ((504016.5 176790.7, 504267.3 177498.3...</td>\n",
       "    </tr>\n",
       "    <tr>\n",
       "      <th>3</th>\n",
       "      <td>0.000</td>\n",
       "      <td>CTY</td>\n",
       "      <td>39</td>\n",
       "      <td>CIVIL ADMINISTRATION AREA</td>\n",
       "      <td>None</td>\n",
       "      <td>GOS Region</td>\n",
       "      <td>West_Midlands</td>\n",
       "      <td>319730.358</td>\n",
       "      <td>West Midlands</td>\n",
       "      <td>27</td>\n",
       "      <td>710</td>\n",
       "      <td>59646</td>\n",
       "      <td>None</td>\n",
       "      <td>AA</td>\n",
       "      <td>9562</td>\n",
       "      <td>POLYGON ((402988.2000732424 368519.7000732422,...</td>\n",
       "    </tr>\n",
       "    <tr>\n",
       "      <th>4</th>\n",
       "      <td>1297.376</td>\n",
       "      <td>CTY</td>\n",
       "      <td>36</td>\n",
       "      <td>CIVIL ADMINISTRATION AREA</td>\n",
       "      <td>None</td>\n",
       "      <td>GOS Region</td>\n",
       "      <td>Yorkshire_and_The_Humber</td>\n",
       "      <td>805319.256</td>\n",
       "      <td>Yorkshire and The Humber</td>\n",
       "      <td>14</td>\n",
       "      <td>1951</td>\n",
       "      <td>60802</td>\n",
       "      <td>None</td>\n",
       "      <td>AA</td>\n",
       "      <td>22028</td>\n",
       "      <td>POLYGON ((406087.2 404640.1, 399470.9 413357.7...</td>\n",
       "    </tr>\n",
       "    <tr>\n",
       "      <th>5</th>\n",
       "      <td>3126.290</td>\n",
       "      <td>CTY</td>\n",
       "      <td>19</td>\n",
       "      <td>CIVIL ADMINISTRATION AREA</td>\n",
       "      <td>None</td>\n",
       "      <td>GOS Region</td>\n",
       "      <td>South_West</td>\n",
       "      <td>257293.989</td>\n",
       "      <td>South West</td>\n",
       "      <td>12</td>\n",
       "      <td>884</td>\n",
       "      <td>122188</td>\n",
       "      <td>None</td>\n",
       "      <td>AA</td>\n",
       "      <td>14362</td>\n",
       "      <td>POLYGON ((416611.4000854493 245330.9000854492,...</td>\n",
       "    </tr>\n",
       "    <tr>\n",
       "      <th>6</th>\n",
       "      <td>0.000</td>\n",
       "      <td>CTY</td>\n",
       "      <td>17</td>\n",
       "      <td>CIVIL ADMINISTRATION AREA</td>\n",
       "      <td>None</td>\n",
       "      <td>GOS Region</td>\n",
       "      <td>East_Midlands</td>\n",
       "      <td>255071.010</td>\n",
       "      <td>East Midlands</td>\n",
       "      <td>13</td>\n",
       "      <td>1046</td>\n",
       "      <td>52650</td>\n",
       "      <td>None</td>\n",
       "      <td>AA</td>\n",
       "      <td>13688</td>\n",
       "      <td>POLYGON ((549787.0001220703 330874.1000976562,...</td>\n",
       "    </tr>\n",
       "    <tr>\n",
       "      <th>7</th>\n",
       "      <td>0.000</td>\n",
       "      <td>CTY</td>\n",
       "      <td>11</td>\n",
       "      <td>CIVIL ADMINISTRATION AREA</td>\n",
       "      <td>None</td>\n",
       "      <td>GOS Region</td>\n",
       "      <td>South_East</td>\n",
       "      <td>156493.981</td>\n",
       "      <td>South East</td>\n",
       "      <td>14</td>\n",
       "      <td>652</td>\n",
       "      <td>51776</td>\n",
       "      <td>None</td>\n",
       "      <td>AA</td>\n",
       "      <td>11901</td>\n",
       "      <td>(POLYGON ((448665.5 96653.80000000002, 455685 ...</td>\n",
       "    </tr>\n",
       "    <tr>\n",
       "      <th>8</th>\n",
       "      <td>0.000</td>\n",
       "      <td>CTY</td>\n",
       "      <td>09</td>\n",
       "      <td>CIVIL ADMINISTRATION AREA</td>\n",
       "      <td>None</td>\n",
       "      <td>GOS Region</td>\n",
       "      <td>East_of_England</td>\n",
       "      <td>119207.686</td>\n",
       "      <td>East of England</td>\n",
       "      <td>17</td>\n",
       "      <td>479</td>\n",
       "      <td>40935</td>\n",
       "      <td>None</td>\n",
       "      <td>AA</td>\n",
       "      <td>1158</td>\n",
       "      <td>POLYGON ((576663.6 181305.7, 573127.5 180750.7...</td>\n",
       "    </tr>\n",
       "  </tbody>\n",
       "</table>\n",
       "</div>"
      ],
      "text/plain": [
       "        AREA AREA_CODE    CODE                  DESCRIPT0 DESCRIPT1  \\\n",
       "0    115.627       CTY      20  CIVIL ADMINISTRATION AREA      None   \n",
       "1  40345.973       CTY      16  CIVIL ADMINISTRATION AREA      None   \n",
       "2   2119.015       GLA  999999  CIVIL ADMINISTRATION AREA      None   \n",
       "3      0.000       CTY      39  CIVIL ADMINISTRATION AREA      None   \n",
       "4   1297.376       CTY      36  CIVIL ADMINISTRATION AREA      None   \n",
       "5   3126.290       CTY      19  CIVIL ADMINISTRATION AREA      None   \n",
       "6      0.000       CTY      17  CIVIL ADMINISTRATION AREA      None   \n",
       "7      0.000       CTY      11  CIVIL ADMINISTRATION AREA      None   \n",
       "8      0.000       CTY      09  CIVIL ADMINISTRATION AREA      None   \n",
       "\n",
       "   DESCRIPTIO                 FILE_NAME    HECTARES                      NAME  \\\n",
       "0  GOS Region                North_East  223273.815                North East   \n",
       "1  GOS Region                North_West  718202.829                North West   \n",
       "2  GOS Region  GREATER_LONDON_AUTHORITY  159471.727  Greater London Authority   \n",
       "3  GOS Region             West_Midlands  319730.358             West Midlands   \n",
       "4  GOS Region  Yorkshire_and_The_Humber  805319.256  Yorkshire and The Humber   \n",
       "5  GOS Region                South_West  257293.989                South West   \n",
       "6  GOS Region             East_Midlands  255071.010             East Midlands   \n",
       "7  GOS Region                South_East  156493.981                South East   \n",
       "8  GOS Region           East_of_England  119207.686           East of England   \n",
       "\n",
       "   NUMBER  NUMBER0  POLYGON_ID TYPE_COD0 TYPE_CODE  UNIT_ID  \\\n",
       "0      17      685       42353      None        AA     2544   \n",
       "1      27     1067      121915      None        AA    13244   \n",
       "2      40     1460      117537      None        AA    41441   \n",
       "3      27      710       59646      None        AA     9562   \n",
       "4      14     1951       60802      None        AA    22028   \n",
       "5      12      884      122188      None        AA    14362   \n",
       "6      13     1046       52650      None        AA    13688   \n",
       "7      14      652       51776      None        AA    11901   \n",
       "8      17      479       40935      None        AA     1158   \n",
       "\n",
       "                                            geometry  \n",
       "0  POLYGON ((478308.8 518913, 477996.9000000002 5...  \n",
       "1  POLYGON ((356931.9 586589.1, 356952.7 586535.9...  \n",
       "2  POLYGON ((504016.5 176790.7, 504267.3 177498.3...  \n",
       "3  POLYGON ((402988.2000732424 368519.7000732422,...  \n",
       "4  POLYGON ((406087.2 404640.1, 399470.9 413357.7...  \n",
       "5  POLYGON ((416611.4000854493 245330.9000854492,...  \n",
       "6  POLYGON ((549787.0001220703 330874.1000976562,...  \n",
       "7  (POLYGON ((448665.5 96653.80000000002, 455685 ...  \n",
       "8  POLYGON ((576663.6 181305.7, 573127.5 180750.7...  "
      ]
     },
     "execution_count": 5,
     "metadata": {},
     "output_type": "execute_result"
    }
   ],
   "source": [
    "df_rg_raw"
   ]
  },
  {
   "cell_type": "markdown",
   "metadata": {},
   "source": [
    "## Splitting into separate JSON files for each region"
   ]
  },
  {
   "cell_type": "code",
   "execution_count": 6,
   "metadata": {
    "collapsed": false
   },
   "outputs": [],
   "source": [
    "df_rg = df_rg_raw\n",
    "regions = df_rg['FILE_NAME'].tolist()\n",
    "\n",
    "df_list = []\n",
    "\n",
    "for region in regions:\n",
    "    df = df_rg[(df_rg['FILE_NAME'] == region)]\n",
    "    with open(path + region + '.json', 'w') as f:\n",
    "        f.write(df.to_json())"
   ]
  }
 ],
 "metadata": {
  "kernelspec": {
   "display_name": "Python 3",
   "language": "python",
   "name": "python3"
  },
  "language_info": {
   "codemirror_mode": {
    "name": "ipython",
    "version": 3
   },
   "file_extension": ".py",
   "mimetype": "text/x-python",
   "name": "python",
   "nbconvert_exporter": "python",
   "pygments_lexer": "ipython3",
   "version": "3.5.1"
  }
 },
 "nbformat": 4,
 "nbformat_minor": 0
}
